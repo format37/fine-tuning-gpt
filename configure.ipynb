{
 "cells": [
  {
   "cell_type": "code",
   "execution_count": 2,
   "id": "66a54415",
   "metadata": {},
   "outputs": [],
   "source": [
    "import openai\n",
    "\n",
    "# Read key from key.txt\n",
    "with open('key.txt', 'r') as file:\n",
    "    openai_key = file.read().replace('\\n', '')\n",
    "\n",
    "openai.api_key = openai_key"
   ]
  },
  {
   "cell_type": "code",
   "execution_count": 14,
   "id": "25572efd",
   "metadata": {},
   "outputs": [
    {
     "data": {
      "text/plain": [
       "<OpenAIObject list at 0x7ffb3406e630> JSON: {\n",
       "  \"object\": \"list\",\n",
       "  \"data\": [\n",
       "    {\n",
       "      \"object\": \"fine_tuning.job\",\n",
       "      \"id\": \"ftjob-7JoCQVfb4Zm6XGnUXTXt5PYC\",\n",
       "      \"model\": \"gpt-3.5-turbo-0613\",\n",
       "      \"created_at\": 1692814278,\n",
       "      \"finished_at\": 1692814851,\n",
       "      \"fine_tuned_model\": \"ft:gpt-3.5-turbo-0613:i-e-aleksei-iurasov::7qmlEe5d\",\n",
       "      \"organization_id\": \"org-JhE9R2YYJVAwraSDiAimSExY\",\n",
       "      \"result_files\": [\n",
       "        \"file-60CiFVKv50vxkgSwWguPJpEL\"\n",
       "      ],\n",
       "      \"status\": \"succeeded\",\n",
       "      \"validation_file\": null,\n",
       "      \"training_file\": \"file-JRJYXODZ4mzYny1aQeMJLhyA\",\n",
       "      \"hyperparameters\": {\n",
       "        \"n_epochs\": 7\n",
       "      },\n",
       "      \"trained_tokens\": 30478\n",
       "    }\n",
       "  ],\n",
       "  \"has_more\": false\n",
       "}"
      ]
     },
     "execution_count": 14,
     "metadata": {},
     "output_type": "execute_result"
    }
   ],
   "source": [
    "# List 10 fine-tuning jobs\n",
    "openai.FineTuningJob.list(limit=10)"
   ]
  },
  {
   "cell_type": "code",
   "execution_count": 15,
   "id": "cb8226db",
   "metadata": {},
   "outputs": [],
   "source": [
    "# https://platform.openai.com/docs/guides/fine-tuning/create-a-fine-tuned-model"
   ]
  }
 ],
 "metadata": {
  "kernelspec": {
   "display_name": "Python 3 (ipykernel)",
   "language": "python",
   "name": "python3"
  },
  "language_info": {
   "codemirror_mode": {
    "name": "ipython",
    "version": 3
   },
   "file_extension": ".py",
   "mimetype": "text/x-python",
   "name": "python",
   "nbconvert_exporter": "python",
   "pygments_lexer": "ipython3",
   "version": "3.11.4"
  }
 },
 "nbformat": 4,
 "nbformat_minor": 5
}
